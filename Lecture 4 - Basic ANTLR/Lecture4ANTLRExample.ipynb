{
 "cells": [
  {
   "cell_type": "code",
   "execution_count": 1,
   "id": "e9018d72-02ae-4b5c-9324-8b81ab37a6d9",
   "metadata": {},
   "outputs": [],
   "source": [
    "@file:DependsOn(\"antlr/antlr-4.9.3-complete.jar\")\n",
    "@file:DependsOn(\".\")"
   ]
  },
  {
   "cell_type": "code",
   "execution_count": 2,
   "id": "5a6ae855-116e-4a20-84c0-e324bdbd268a",
   "metadata": {},
   "outputs": [],
   "source": [
    "import org.antlr.v4.runtime.*;\n",
    "import mylexer.MyLexer;\n"
   ]
  },
  {
   "cell_type": "code",
   "execution_count": 4,
   "id": "be676ba0-a4f8-416b-9474-fc72611cac7d",
   "metadata": {},
   "outputs": [],
   "source": [
    "val source : String =\n",
    "    \"\"\"\n",
    "    constant pi = 3.1415;\n",
    "    var radius = 10.4;\n",
    "    var area = pi * square(radius)\n",
    "    \n",
    "    function square(x) {\n",
    "        return x * x\n",
    "    }\n",
    "    \"\"\".trimIndent()"
   ]
  },
  {
   "cell_type": "code",
   "execution_count": 5,
   "id": "ccb90705-666c-4cb6-844f-49b6ce1a0850",
   "metadata": {},
   "outputs": [
    {
     "name": "stdout",
     "output_type": "stream",
     "text": [
      "constant pi = 3.1415;\n",
      "var radius = 10.4;\n",
      "var area = pi * square(radius)\n",
      "\n",
      "function square(x) {\n",
      "    return x * x\n",
      "}"
     ]
    }
   ],
   "source": [
    "print(source)"
   ]
  },
  {
   "cell_type": "code",
   "execution_count": 17,
   "id": "744aa28f-3ac4-45e5-b87f-ffd579fd64e5",
   "metadata": {},
   "outputs": [],
   "source": [
    "val input = ANTLRInputStream(source)"
   ]
  },
  {
   "cell_type": "code",
   "execution_count": 18,
   "id": "a65ff14d-83e6-4b24-9a07-24b4cbb4aba7",
   "metadata": {},
   "outputs": [
    {
     "name": "stdout",
     "output_type": "stream",
     "text": [
      "There are: 32 tokens"
     ]
    }
   ],
   "source": [
    "var lexer = MyLexer(input)\n",
    "var tokens = CommonTokenStream(lexer)\n",
    "tokens.fill()\n",
    "print(\"There are: \" + tokens.size() + \" tokens\")"
   ]
  },
  {
   "cell_type": "code",
   "execution_count": 19,
   "id": "caf83cdd-087b-49c1-a968-29c7f152a5c9",
   "metadata": {},
   "outputs": [
    {
     "name": "stdout",
     "output_type": "stream",
     "text": [
      "KEYWORD:constant\n",
      "IDENT:pi\n",
      "'=':=\n",
      "NUMBER:3.1415\n",
      "';':;\n",
      "KEYWORD:var\n",
      "IDENT:radius\n",
      "'=':=\n",
      "NUMBER:1\n",
      "NUMBER:0.4\n",
      "';':;\n",
      "KEYWORD:var\n",
      "IDENT:area\n",
      "'=':=\n",
      "IDENT:pi\n",
      "OP:*\n",
      "IDENT:square\n",
      "'(':(\n",
      "IDENT:radius\n",
      "')':)\n",
      "KEYWORD:function\n",
      "IDENT:square\n",
      "'(':(\n",
      "IDENT:x\n",
      "')':)\n",
      "'{':{\n",
      "KEYWORD:return\n",
      "IDENT:x\n",
      "OP:*\n",
      "IDENT:x\n",
      "'}':}\n",
      "EOF:<EOF>\n"
     ]
    }
   ],
   "source": [
    "for (i in 0 until tokens.size()){\n",
    "    val token = tokens.get(i)\n",
    "    val typename = \n",
    "        if(token.type >= 0)\n",
    "            lexer.tokenNames[token.type]\n",
    "        else\n",
    "            \"EOF\"\n",
    "    println(typename + \":\" + token.text)\n",
    "}"
   ]
  },
  {
   "cell_type": "code",
   "execution_count": null,
   "id": "592d3ec1-b3a4-4f50-919c-42539a9b4c10",
   "metadata": {},
   "outputs": [],
   "source": []
  }
 ],
 "metadata": {
  "kernelspec": {
   "display_name": "Kotlin",
   "language": "kotlin",
   "name": "kotlin"
  },
  "language_info": {
   "codemirror_mode": "text/x-kotlin",
   "file_extension": ".kt",
   "mimetype": "text/x-kotlin",
   "name": "kotlin",
   "nbconvert_exporter": "",
   "pygments_lexer": "kotlin",
   "version": "1.6.20-dev-6372"
  }
 },
 "nbformat": 4,
 "nbformat_minor": 5
}
